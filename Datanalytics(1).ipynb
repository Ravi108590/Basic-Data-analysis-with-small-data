{
  "nbformat": 4,
  "nbformat_minor": 0,
  "metadata": {
    "colab": {
      "provenance": []
    },
    "kernelspec": {
      "name": "python3",
      "display_name": "Python 3"
    },
    "language_info": {
      "name": "python"
    }
  },
  "cells": [
    {
      "cell_type": "code",
      "execution_count": null,
      "metadata": {
        "colab": {
          "base_uri": "https://localhost:8080/"
        },
        "id": "I1NLQd0xpLJu",
        "outputId": "2eb0b741-923d-4528-c980-4d0b6b6eeb4f"
      },
      "outputs": [
        {
          "output_type": "stream",
          "name": "stdout",
          "text": [
            "1.21.6\n"
          ]
        }
      ],
      "source": [
        "#checking the version of numpy\n",
        "import numpy as np\n",
        "print(np.__version__)"
      ]
    },
    {
      "cell_type": "code",
      "source": [
        "#checking dimension of the array\n",
        "import numpy as np\n",
        "arr1 = np.array(20)\n",
        "arr2 = np.array([1,2,3,4])\n",
        "arr3 = np.array([[1,2,3,4],[5,6,7,8]])\n",
        "print(arr1.ndim)\n",
        "print(arr2.ndim)\n",
        "print(arr3.ndim)\n"
      ],
      "metadata": {
        "colab": {
          "base_uri": "https://localhost:8080/"
        },
        "id": "Lb259p9UqEbK",
        "outputId": "bcbab7e3-3015-47f6-81b8-93b8ae3551de"
      },
      "execution_count": null,
      "outputs": [
        {
          "output_type": "stream",
          "name": "stdout",
          "text": [
            "0\n",
            "1\n",
            "2\n"
          ]
        }
      ]
    },
    {
      "cell_type": "code",
      "source": [
        "#indexing\n",
        "import numpy as np\n",
        "arr = np.array([1,2,3,4,5,6])\n",
        "print(arr[0]+arr[1]+arr[2])"
      ],
      "metadata": {
        "colab": {
          "base_uri": "https://localhost:8080/"
        },
        "id": "3bPkcsyLrosT",
        "outputId": "a88d9cdd-0121-46a3-9d10-436d22cdfd62"
      },
      "execution_count": null,
      "outputs": [
        {
          "output_type": "stream",
          "name": "stdout",
          "text": [
            "6\n"
          ]
        }
      ]
    },
    {
      "cell_type": "code",
      "source": [
        "#1-D array slicing\n",
        "import numpy as np\n",
        "arr = np.array([2,4,5,6,7,8,9])\n",
        "print(arr[1:4])\n",
        "print(arr[1:])\n",
        "print(arr[:1])\n",
        "print(arr[:-1])\n",
        "print(arr[:-2])\n",
        "print(arr[-3:-1])"
      ],
      "metadata": {
        "colab": {
          "base_uri": "https://localhost:8080/"
        },
        "id": "d-IizjuqsJoE",
        "outputId": "ec923b36-6dec-42c6-d614-a73735947c4c"
      },
      "execution_count": null,
      "outputs": [
        {
          "output_type": "stream",
          "name": "stdout",
          "text": [
            "[4 5 6]\n",
            "[4 5 6 7 8 9]\n",
            "[2]\n",
            "[2 4 5 6 7 8]\n",
            "[2 4 5 6 7]\n",
            "[7 8]\n"
          ]
        }
      ]
    },
    {
      "cell_type": "code",
      "source": [
        "#numpy array iteration\n",
        "import numpy as np\n",
        "arr = np.array([3,4,5,6,7])\n",
        "for elem in arr:\n",
        "  print(elem)"
      ],
      "metadata": {
        "colab": {
          "base_uri": "https://localhost:8080/"
        },
        "id": "OcD0EMTUta61",
        "outputId": "dd80f57d-2201-412f-ae72-8ed170e2b1e1"
      },
      "execution_count": null,
      "outputs": [
        {
          "output_type": "stream",
          "name": "stdout",
          "text": [
            "3\n",
            "4\n",
            "5\n",
            "6\n",
            "7\n"
          ]
        }
      ]
    },
    {
      "cell_type": "code",
      "source": [
        "# Pandas Series(it's converts the data in the column ad return type too with the index number)\n",
        "import pandas as pd\n",
        "a = [1,2,4,5,6,7,8]\n",
        "pnd = pd.Series(a)\n",
        "print(pnd)\n",
        "\n",
        "#Assigning index manually\n",
        "pnd1 = pd.Series(a, index=['a','b','c','d','e','f','g'])\n",
        "print(pnd1)\n",
        "\n",
        "#Dictionary\n",
        "address = {\"fname\":\"Ravi\",\"mname\":\"Kumar\",\"lname\":\"Pathak\"}\n",
        "pnd2 = pd.Series(address)\n",
        "print(pnd2)\n"
      ],
      "metadata": {
        "colab": {
          "base_uri": "https://localhost:8080/"
        },
        "id": "G4W4XNXcCpUb",
        "outputId": "6d5baf25-be18-4896-c7d3-b1ef5b20d2d2"
      },
      "execution_count": 6,
      "outputs": [
        {
          "output_type": "stream",
          "name": "stdout",
          "text": [
            "0    1\n",
            "1    2\n",
            "2    4\n",
            "3    5\n",
            "4    6\n",
            "5    7\n",
            "6    8\n",
            "dtype: int64\n",
            "a    1\n",
            "b    2\n",
            "c    4\n",
            "d    5\n",
            "e    6\n",
            "f    7\n",
            "g    8\n",
            "dtype: int64\n",
            "fname      Ravi\n",
            "mname     Kumar\n",
            "lname    Pathak\n",
            "dtype: object\n"
          ]
        }
      ]
    },
    {
      "cell_type": "code",
      "source": [
        "#dataframe(data is stored in the multidimension table is known as dataframe)\n",
        "import pandas as pd\n",
        "data = {\n",
        "    \"Name\":[\"Ravi\", \"Kumar\",\"Pathak\"],\n",
        "    \"salary\":[30000, 40000, 100000]\n",
        "}\n",
        "pnd = pd.DataFrame(data)\n",
        "print(pnd)\n",
        "\n",
        "#pandas is used to return loc function to return one or more specified rules\n",
        "print(pnd.loc[[0,1]])\n",
        "\n",
        "print(\"-----------------------\")\n",
        "\n",
        "#manupulating\n",
        "#rename\n",
        "pnd = pnd.rename(columns={'salary': 'Emp_salary'})\n",
        "print(pnd)\n",
        "\n",
        "#sorting\n",
        "pnd = pnd.sort_values(by = ['Emp_salary'], ascending=False)\n",
        "print(pnd)\n",
        "\n",
        "#Applying filter\n",
        "print(pnd[pnd.Emp_salary>30000])"
      ],
      "metadata": {
        "colab": {
          "base_uri": "https://localhost:8080/"
        },
        "id": "sx506UPgFB7K",
        "outputId": "df0b9f1f-8d43-43bb-ffe5-344d0a9fd12a"
      },
      "execution_count": 8,
      "outputs": [
        {
          "output_type": "stream",
          "name": "stdout",
          "text": [
            "     Name  salary\n",
            "0    Ravi   30000\n",
            "1   Kumar   40000\n",
            "2  Pathak  100000\n",
            "    Name  salary\n",
            "0   Ravi   30000\n",
            "1  Kumar   40000\n",
            "-----------------------\n",
            "     Name  Emp_salary\n",
            "0    Ravi       30000\n",
            "1   Kumar       40000\n",
            "2  Pathak      100000\n",
            "     Name  Emp_salary\n",
            "2  Pathak      100000\n",
            "1   Kumar       40000\n",
            "0    Ravi       30000\n",
            "     Name  Emp_salary\n",
            "2  Pathak      100000\n",
            "1   Kumar       40000\n"
          ]
        }
      ]
    },
    {
      "cell_type": "code",
      "source": [
        "#Ploting charts(Matplotlib)\n",
        "#Pi chart\n",
        "import matplotlib.pyplot as plt\n",
        "import numpy as np\n",
        "\n",
        "y = np.array([1,4,8,12,34])\n",
        "plt.pie(y)\n",
        "plt.show()"
      ],
      "metadata": {
        "colab": {
          "base_uri": "https://localhost:8080/",
          "height": 248
        },
        "id": "PWzqPs1SEOjX",
        "outputId": "bac5b8e4-d35b-4207-f383-5a311600675e"
      },
      "execution_count": 9,
      "outputs": [
        {
          "output_type": "display_data",
          "data": {
            "text/plain": [
              "<Figure size 432x288 with 1 Axes>"
            ],
            "image/png": "[encoded data removed]"
          },
          "metadata": {}
        }
      ]
    },
    {
      "cell_type": "code",
      "source": [
        "#Histogram\n",
        "import matplotlib.pyplot as plt\n",
        "import numpy as np\n",
        "\n",
        "x = np.random.randint(34,456,346)\n",
        "plt.hist(x)\n",
        "plt.show()"
      ],
      "metadata": {
        "colab": {
          "base_uri": "https://localhost:8080/",
          "height": 265
        },
        "id": "oC3tovJv5DeO",
        "outputId": "204f3ea9-c098-41a9-d406-9cf67ae5008d"
      },
      "execution_count": 11,
      "outputs": [
        {
          "output_type": "display_data",
          "data": {
            "text/plain": [
              "<Figure size 432x288 with 1 Axes>"
            ],
            "image/png": "[encoded data removed]"
          },
          "metadata": {
            "needs_background": "light"
          }
        }
      ]
    },
    {
      "cell_type": "code",
      "source": [
        "#bar graph\n",
        "import matplotlib.pyplot as plt\n",
        "import numpy as np\n",
        "\n",
        "x = np.array([\"A\",\"B\",\"C\",\"D\"])\n",
        "y = np.array([23,34,56,67])\n",
        "plt.bar(x,y)\n",
        "plt.show()"
      ],
      "metadata": {
        "colab": {
          "base_uri": "https://localhost:8080/",
          "height": 268
        },
        "id": "mJp06B5f5ni8",
        "outputId": "70251cc3-d236-4be8-92e5-e913631a2d94"
      },
      "execution_count": 12,
      "outputs": [
        {
          "output_type": "display_data",
          "data": {
            "text/plain": [
              "<Figure size 432x288 with 1 Axes>"
            ],
            "image/png": "[encoded data removed]"
          },
          "metadata": {
            "needs_background": "light"
          }
        }
      ]
    },
    {
      "cell_type": "code",
      "source": [
        "#scatter plot\n",
        "import matplotlib.pyplot as plt\n",
        "import numpy as np\n",
        "x = np.array([2,3,4,5,6,12,34,23,21,22,24,25,26])\n",
        "y = np.array([234,55,66,77,88,99,123,234,567,367,235,678,987])\n",
        "plt.scatter(x,y)\n",
        "plt.show()"
      ],
      "metadata": {
        "colab": {
          "base_uri": "https://localhost:8080/",
          "height": 265
        },
        "id": "O8EgnDY56Vwm",
        "outputId": "f9e59283-5e82-45b8-e924-85046fd1f2fb"
      },
      "execution_count": 13,
      "outputs": [
        {
          "output_type": "display_data",
          "data": {
            "text/plain": [
              "<Figure size 432x288 with 1 Axes>"
            ],
            "image/png": "[encoded data removed]"
          },
          "metadata": {
            "needs_background": "light"
          }
        }
      ]
    },
    {
      "cell_type": "code",
      "source": [
        "#Line plot\n",
        "import matplotlib.pyplot as plt\n",
        "import numpy as np\n",
        "\n",
        "x = np.array([12,13,14,15,16,17,18,19])\n",
        "y = x*2\n",
        "plt.plot(x,y)\n",
        "plt.show()"
      ],
      "metadata": {
        "colab": {
          "base_uri": "https://localhost:8080/",
          "height": 265
        },
        "id": "qoZ4fIX47U6z",
        "outputId": "e9165e76-40e0-499b-d7bf-f7e117980141"
      },
      "execution_count": 14,
      "outputs": [
        {
          "output_type": "display_data",
          "data": {
            "text/plain": [
              "<Figure size 432x288 with 1 Axes>"
            ],
            "image/png": "[encoded data removed]"
          },
          "metadata": {
            "needs_background": "light"
          }
        }
      ]
    },
    {
      "cell_type": "code",
      "source": [
        "#Legends annotations style\n",
        "import matplotlib.pyplot as plt\n",
        "import numpy as np\n",
        "from matplotlib import style\n",
        "Data = np.random.randn(60)\n",
        "plt.style.use('dark_background')\n",
        "plt.plot(Data)\n",
        "plt.show()\n"
      ],
      "metadata": {
        "colab": {
          "base_uri": "https://localhost:8080/",
          "height": 265
        },
        "id": "LMZrVVcq7-IO",
        "outputId": "62c0e556-ef22-478e-97ff-f9b471449eea"
      },
      "execution_count": 15,
      "outputs": [
        {
          "output_type": "display_data",
          "data": {
            "text/plain": [
              "<Figure size 432x288 with 1 Axes>"
            ],
            "image/png": "[encoded data removed]"
          },
          "metadata": {}
        }
      ]
    }
  ]
}